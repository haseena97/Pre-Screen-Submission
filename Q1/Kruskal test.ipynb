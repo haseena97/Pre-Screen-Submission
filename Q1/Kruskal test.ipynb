{
 "cells": [
  {
   "cell_type": "code",
   "execution_count": 1,
   "id": "a1293aab",
   "metadata": {},
   "outputs": [],
   "source": [
    "import numpy as np\n",
    "import pandas as pd\n",
    "import scipy \n",
    "from scipy import stats\n",
    "import statsmodels.api as sm\n",
    "from IPython.display import display\n",
    "\n",
    "pd.options.display.max_columns = None"
   ]
  },
  {
   "cell_type": "code",
   "execution_count": 8,
   "id": "e66d8e13",
   "metadata": {},
   "outputs": [
    {
     "data": {
      "text/html": [
       "<div>\n",
       "<style scoped>\n",
       "    .dataframe tbody tr th:only-of-type {\n",
       "        vertical-align: middle;\n",
       "    }\n",
       "\n",
       "    .dataframe tbody tr th {\n",
       "        vertical-align: top;\n",
       "    }\n",
       "\n",
       "    .dataframe thead th {\n",
       "        text-align: right;\n",
       "    }\n",
       "</style>\n",
       "<table border=\"1\" class=\"dataframe\">\n",
       "  <thead>\n",
       "    <tr style=\"text-align: right;\">\n",
       "      <th></th>\n",
       "      <th>Unnamed: 0</th>\n",
       "      <th>a</th>\n",
       "      <th>b</th>\n",
       "      <th>c</th>\n",
       "      <th>d</th>\n",
       "      <th>e</th>\n",
       "      <th>f</th>\n",
       "      <th>g</th>\n",
       "      <th>h</th>\n",
       "      <th>i</th>\n",
       "      <th>Cluster</th>\n",
       "    </tr>\n",
       "  </thead>\n",
       "  <tbody>\n",
       "    <tr>\n",
       "      <th>0</th>\n",
       "      <td>0</td>\n",
       "      <td>1.51735</td>\n",
       "      <td>13.02</td>\n",
       "      <td>3.54</td>\n",
       "      <td>1.69</td>\n",
       "      <td>72.73</td>\n",
       "      <td>0.54</td>\n",
       "      <td>8.44</td>\n",
       "      <td>0.0</td>\n",
       "      <td>0.07</td>\n",
       "      <td>Formulation 1</td>\n",
       "    </tr>\n",
       "    <tr>\n",
       "      <th>1</th>\n",
       "      <td>1</td>\n",
       "      <td>1.52300</td>\n",
       "      <td>13.31</td>\n",
       "      <td>3.58</td>\n",
       "      <td>0.82</td>\n",
       "      <td>71.99</td>\n",
       "      <td>0.12</td>\n",
       "      <td>10.17</td>\n",
       "      <td>0.0</td>\n",
       "      <td>0.03</td>\n",
       "      <td>Formulation 3</td>\n",
       "    </tr>\n",
       "    <tr>\n",
       "      <th>2</th>\n",
       "      <td>2</td>\n",
       "      <td>1.51768</td>\n",
       "      <td>12.56</td>\n",
       "      <td>3.52</td>\n",
       "      <td>1.43</td>\n",
       "      <td>73.15</td>\n",
       "      <td>0.57</td>\n",
       "      <td>8.54</td>\n",
       "      <td>0.0</td>\n",
       "      <td>0.00</td>\n",
       "      <td>Formulation 1</td>\n",
       "    </tr>\n",
       "    <tr>\n",
       "      <th>3</th>\n",
       "      <td>3</td>\n",
       "      <td>1.51813</td>\n",
       "      <td>13.43</td>\n",
       "      <td>3.98</td>\n",
       "      <td>1.18</td>\n",
       "      <td>72.49</td>\n",
       "      <td>0.58</td>\n",
       "      <td>8.15</td>\n",
       "      <td>0.0</td>\n",
       "      <td>0.00</td>\n",
       "      <td>Formulation 1</td>\n",
       "    </tr>\n",
       "    <tr>\n",
       "      <th>4</th>\n",
       "      <td>4</td>\n",
       "      <td>1.51721</td>\n",
       "      <td>12.87</td>\n",
       "      <td>3.48</td>\n",
       "      <td>1.33</td>\n",
       "      <td>73.04</td>\n",
       "      <td>0.56</td>\n",
       "      <td>8.43</td>\n",
       "      <td>0.0</td>\n",
       "      <td>0.00</td>\n",
       "      <td>Formulation 1</td>\n",
       "    </tr>\n",
       "  </tbody>\n",
       "</table>\n",
       "</div>"
      ],
      "text/plain": [
       "   Unnamed: 0        a      b     c     d      e     f      g    h     i  \\\n",
       "0           0  1.51735  13.02  3.54  1.69  72.73  0.54   8.44  0.0  0.07   \n",
       "1           1  1.52300  13.31  3.58  0.82  71.99  0.12  10.17  0.0  0.03   \n",
       "2           2  1.51768  12.56  3.52  1.43  73.15  0.57   8.54  0.0  0.00   \n",
       "3           3  1.51813  13.43  3.98  1.18  72.49  0.58   8.15  0.0  0.00   \n",
       "4           4  1.51721  12.87  3.48  1.33  73.04  0.56   8.43  0.0  0.00   \n",
       "\n",
       "         Cluster  \n",
       "0  Formulation 1  \n",
       "1  Formulation 3  \n",
       "2  Formulation 1  \n",
       "3  Formulation 1  \n",
       "4  Formulation 1  "
      ]
     },
     "execution_count": 8,
     "metadata": {},
     "output_type": "execute_result"
    }
   ],
   "source": [
    "df = pd.read_excel('C:/Users/Acer/Downloads/pre-screen/final_result2.xlsx')\n",
    "df.head()"
   ]
  },
  {
   "cell_type": "code",
   "execution_count": 9,
   "id": "569c0be7",
   "metadata": {},
   "outputs": [],
   "source": [
    "df = df.drop(['Unnamed: 0'],axis = 1)"
   ]
  },
  {
   "cell_type": "code",
   "execution_count": 10,
   "id": "b63fd0ad",
   "metadata": {},
   "outputs": [],
   "source": [
    "result = df[['a', 'b', 'c', 'd', 'e', 'f', 'g', 'h', 'i','Cluster']].groupby('Cluster').median()\n",
    "result = result.transpose()"
   ]
  },
  {
   "cell_type": "code",
   "execution_count": 11,
   "id": "1051e036",
   "metadata": {},
   "outputs": [
    {
     "data": {
      "text/plain": [
       "Index(['Formulation 1', 'Formulation 2', 'Formulation 3', 'Formulation 4'], dtype='object', name='Cluster')"
      ]
     },
     "execution_count": 11,
     "metadata": {},
     "output_type": "execute_result"
    }
   ],
   "source": [
    "result.columns"
   ]
  },
  {
   "cell_type": "code",
   "execution_count": 12,
   "id": "642f0e12",
   "metadata": {},
   "outputs": [
    {
     "name": "stdout",
     "output_type": "stream",
     "text": [
      "ShapiroResult(statistic=0.5408061146736145, pvalue=1.9301562133478e-05)\n",
      "ShapiroResult(statistic=0.5384564399719238, pvalue=1.8112325051333755e-05)\n",
      "ShapiroResult(statistic=0.553828239440918, pvalue=2.7454823793959804e-05)\n",
      "ShapiroResult(statistic=0.5456883311271667, pvalue=2.2027727027307265e-05)\n"
     ]
    }
   ],
   "source": [
    "# Normality Test\n",
    "print(stats.shapiro(result['Formulation 1'])) # Shapiro Test\n",
    "print(stats.shapiro(result['Formulation 2']))\n",
    "print(stats.shapiro(result['Formulation 3']))\n",
    "print(stats.shapiro(result['Formulation 4']))"
   ]
  },
  {
   "cell_type": "markdown",
   "id": "cc31fb1c",
   "metadata": {},
   "source": [
    "p-value for shapiro test are <0.05\n",
    "- reject null hypothesis\n",
    "- variables failed normality test"
   ]
  },
  {
   "cell_type": "code",
   "execution_count": 13,
   "id": "334ad458",
   "metadata": {},
   "outputs": [
    {
     "data": {
      "text/plain": [
       "LeveneResult(statistic=0.0003066971882176188, pvalue=0.9999924071318681)"
      ]
     },
     "execution_count": 13,
     "metadata": {},
     "output_type": "execute_result"
    }
   ],
   "source": [
    "# Variance test\n",
    "scipy.stats.levene(result['Formulation 1'], result['Formulation 2'],\n",
    "                   result['Formulation 3'],result['Formulation 4'])"
   ]
  },
  {
   "cell_type": "markdown",
   "id": "58aac403",
   "metadata": {},
   "source": [
    "p-value for shapiro test are >0.05\n",
    "- accept null hypothesis\n",
    "- variables have equal variances"
   ]
  },
  {
   "cell_type": "markdown",
   "id": "19bb5b66",
   "metadata": {},
   "source": [
    "Measurement variable does not meet the normality assumption of a one-way anova. Normal / gaussian distribution should be analysed with ANOVA while a non-normal / non-gaussian distribution should be analysed with the Kruskal-Wallis"
   ]
  },
  {
   "cell_type": "code",
   "execution_count": 14,
   "id": "d7a49b36",
   "metadata": {},
   "outputs": [
    {
     "name": "stdout",
     "output_type": "stream",
     "text": [
      "KruskalResult(statistic=0.08854482898199191, pvalue=0.9931757256816306)\n"
     ]
    }
   ],
   "source": [
    "# Conduct the Kruskal-Wallis Test \n",
    "test = stats.kruskal(result['Formulation 1'], result['Formulation 2'], \n",
    "                     result['Formulation 3'],result['Formulation 4'])\n",
    "  \n",
    "# Print the result\n",
    "print(test)"
   ]
  },
  {
   "cell_type": "markdown",
   "id": "01b01633",
   "metadata": {},
   "source": [
    "p-value > 0.05\n",
    "- Accept null hypothesis\n",
    "- Formulations are equal"
   ]
  },
  {
   "cell_type": "code",
   "execution_count": null,
   "id": "d13abc21",
   "metadata": {},
   "outputs": [],
   "source": []
  }
 ],
 "metadata": {
  "kernelspec": {
   "display_name": "Python 3 (ipykernel)",
   "language": "python",
   "name": "python3"
  },
  "language_info": {
   "codemirror_mode": {
    "name": "ipython",
    "version": 3
   },
   "file_extension": ".py",
   "mimetype": "text/x-python",
   "name": "python",
   "nbconvert_exporter": "python",
   "pygments_lexer": "ipython3",
   "version": "3.9.12"
  },
  "varInspector": {
   "cols": {
    "lenName": 16,
    "lenType": 16,
    "lenVar": 40
   },
   "kernels_config": {
    "python": {
     "delete_cmd_postfix": "",
     "delete_cmd_prefix": "del ",
     "library": "var_list.py",
     "varRefreshCmd": "print(var_dic_list())"
    },
    "r": {
     "delete_cmd_postfix": ") ",
     "delete_cmd_prefix": "rm(",
     "library": "var_list.r",
     "varRefreshCmd": "cat(var_dic_list()) "
    }
   },
   "types_to_exclude": [
    "module",
    "function",
    "builtin_function_or_method",
    "instance",
    "_Feature"
   ],
   "window_display": false
  }
 },
 "nbformat": 4,
 "nbformat_minor": 5
}
